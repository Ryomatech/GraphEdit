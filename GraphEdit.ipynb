{
  "nbformat": 4,
  "nbformat_minor": 0,
  "metadata": {
    "colab": {
      "provenance": [],
      "authorship_tag": "ABX9TyPYMOJjtSHXwLqmbuOr2Ijy",
      "include_colab_link": true
    },
    "kernelspec": {
      "name": "python3",
      "display_name": "Python 3"
    },
    "language_info": {
      "name": "python"
    }
  },
  "cells": [
    {
      "cell_type": "markdown",
      "metadata": {
        "id": "view-in-github",
        "colab_type": "text"
      },
      "source": [
        "<a href=\"https://colab.research.google.com/github/Ryomatech/GraphEdit/blob/main/GraphEdit.ipynb\" target=\"_parent\"><img src=\"https://colab.research.google.com/assets/colab-badge.svg\" alt=\"Open In Colab\"/></a>"
      ]
    },
    {
      "cell_type": "code",
      "execution_count": null,
      "metadata": {
        "id": "qFnIb5NMwtEj"
      },
      "outputs": [],
      "source": [
        "!pip install japanize-matplotlib\n",
        "!pip install scienceplots"
      ]
    },
    {
      "cell_type": "code",
      "source": [
        "import matplotlib.pyplot as plt\n",
        "import japanize_matplotlib\n",
        "import scienceplots\n",
        "import numpy as np\n",
        "import pandas as pd\n",
        "from google.colab import files\n",
        "\n",
        "data_file_name=\"sucrose_data.csv\"\n",
        "save_file_name=\"sucrose_refractive_index.pdf\"\n",
        "\n",
        "plt.style.use(['science','ieee',\"no-latex\"])\n",
        "\n",
        "csv_df = pd.read_csv(data_file_name,header=None)\n",
        "\n",
        "print(csv_df)\n",
        "\n",
        "x = csv_df[csv_df.columns[0]]\n",
        "y = csv_df[csv_df.columns[1]]\n",
        "\n",
        "fig = plt.figure()\n",
        "#label=\"\"でラベル指定\n",
        "plt.plot(x,y,marker=\".\",linestyle=\" \")\n",
        "\n",
        "#軸の最大値最小値\n",
        "plt.xlim(-2, 42)\n",
        "plt.ylim(1.33, 1.40)\n",
        "\n",
        "plt.xlabel(\"濃度/wt%\", fontname='IPAexGothic',fontsize=13)\n",
        "plt.ylabel('屈折率', fontname='IPAexGothic',fontsize=13) \n",
        "\n",
        "fig.show() \n",
        "plt.savefig(save_file_name) \n",
        "files.download(save_file_name)"
      ],
      "metadata": {
        "id": "LFIWjDBjwvRJ"
      },
      "execution_count": null,
      "outputs": []
    }
  ]
}